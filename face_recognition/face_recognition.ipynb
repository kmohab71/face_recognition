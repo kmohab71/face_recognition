{
 "cells": [
  {
   "cell_type": "code",
   "execution_count": 6,
   "metadata": {
    "colab": {
     "base_uri": "https://localhost:8080/",
     "height": 34
    },
    "colab_type": "code",
    "executionInfo": {
     "elapsed": 18275,
     "status": "ok",
     "timestamp": 1551546607762,
     "user": {
      "displayName": "Alaa Sameh",
      "photoUrl": "https://lh4.googleusercontent.com/-O_0GSqk34gQ/AAAAAAAAAAI/AAAAAAAAACQ/Br1eIhpo3oY/s64/photo.jpg",
      "userId": "16279833128845299257"
     },
     "user_tz": -120
    },
    "id": "TVvXPqV8pkWg",
    "outputId": "cb94d4ec-4e88-473d-9d88-7c1316cb746c"
   },
   "outputs": [
    {
     "name": "stdout",
     "output_type": "stream",
     "text": [
      "Mounted at /content/drive\n"
     ]
    }
   ],
   "source": [
    "from google.colab import drive\n",
    "drive.mount('/content/drive',force_remount=True)"
   ]
  },
  {
   "cell_type": "code",
   "execution_count": 7,
   "metadata": {
    "colab": {
     "base_uri": "https://localhost:8080/",
     "height": 34
    },
    "colab_type": "code",
    "executionInfo": {
     "elapsed": 3276,
     "status": "ok",
     "timestamp": 1551546613972,
     "user": {
      "displayName": "Alaa Sameh",
      "photoUrl": "https://lh4.googleusercontent.com/-O_0GSqk34gQ/AAAAAAAAAAI/AAAAAAAAACQ/Br1eIhpo3oY/s64/photo.jpg",
      "userId": "16279833128845299257"
     },
     "user_tz": -120
    },
    "id": "cfHB1WXQp3y0",
    "outputId": "8131867e-5fec-4906-e01c-9fbe59b16c80"
   },
   "outputs": [
    {
     "name": "stdout",
     "output_type": "stream",
     "text": [
      "face_recognition.ipynb\torl_faces  Untitled0.ipynb\n"
     ]
    }
   ],
   "source": [
    "import os\n",
    "path= \"/content/drive/My Drive/engineering/college/term 10/pattern recognition/projects/face_recognition\" #Alaa\n",
    "os.chdir(path)\n",
    "!ls "
   ]
  },
  {
   "cell_type": "code",
   "execution_count": 26,
   "metadata": {
    "colab": {},
    "colab_type": "code",
    "id": "YMDYWW7BU82e"
   },
   "outputs": [],
   "source": [
    "\n",
    "from PIL import Image\n",
    "import numpy as np\n",
    "import glob\n",
    "import regex \n",
    "import matplotlib.pyplot as plt\n",
    "from sklearn.decomposition import PCA\n",
    "\n",
    "from sklearn.neighbors import KNeighborsClassifier\n"
   ]
  },
  {
   "cell_type": "code",
   "execution_count": 10,
   "metadata": {
    "colab": {},
    "colab_type": "code",
    "id": "rwtwi-lJrEDB"
   },
   "outputs": [],
   "source": [
    "\n",
    "\n",
    "\n",
    "def read_dataset(path):\n",
    "  data= np.zeros([400,10305])\n",
    "  i=0\n",
    "  iamges_list = []\n",
    "  for filename in glob.glob(path+\"/*/*.pgm\"): \n",
    "\n",
    "    im=Image.open(filename)\n",
    "    iamges_list.append(im)\n",
    "    l=regex.split(r'/', filename)\n",
    "    l2= regex.split(r's', l[1])\n",
    "    arr = np.array(im)\n",
    "    data[i,0:10304]=arr.reshape(1,10304)\n",
    "    data[i, -1]=l2[1]\n",
    "    i+=1\n",
    "  return data, iamges_list\n",
    "\n",
    "\n",
    "    "
   ]
  },
  {
   "cell_type": "code",
   "execution_count": 11,
   "metadata": {
    "colab": {},
    "colab_type": "code",
    "id": "Hts1FOPRRCO9"
   },
   "outputs": [],
   "source": [
    "def data_splitting():\n",
    "  test = np.zeros([200,10305])\n",
    "  train = np.zeros([200,10305])\n",
    "  for i in range(data.shape[0]):\n",
    "    if i%2 == 0:\n",
    "      test[int(i/2)]=data[i,:]\n",
    "    else:\n",
    "      train[int((i-1)/2)]=data[i]\n",
    "  return train, test\n"
   ]
  },
  {
   "cell_type": "code",
   "execution_count": 0,
   "metadata": {
    "colab": {},
    "colab_type": "code",
    "id": "hs9r-A4YTmpc"
   },
   "outputs": [],
   "source": [
    "def visualize(images,i):\n",
    "  plt.imshow(images[i])\n",
    "  "
   ]
  },
  {
   "cell_type": "code",
   "execution_count": 13,
   "metadata": {
    "colab": {},
    "colab_type": "code",
    "id": "I_FXsVBSuDRg"
   },
   "outputs": [],
   "source": [
    "data, images= read_dataset(\"orl_faces\") \n",
    "train, test = data_splitting()\n",
    "#visualize(images, 32)"
   ]
  },
  {
   "cell_type": "code",
   "execution_count": 39,
   "metadata": {
    "colab": {},
    "colab_type": "code",
    "id": "KXEEiA6NV1yp"
   },
   "outputs": [],
   "source": [
    "def pca():\n",
    "  pca = PCA(n_components= 1000)\n",
    "  pca.fit(train[:,0:10304])\n",
    "  new_dimensions= pca.fit_transform(train)\n",
    "  #print(pca.explained_variance_ratio_)  \n",
    "  #print(new_dimensions.shape)\n",
    "  return  new_dimensions\n",
    "\n",
    "new_dimensions= pca ()\n",
    "\n",
    "\n"
   ]
  },
  {
   "cell_type": "code",
   "execution_count": 47,
   "metadata": {
    "colab": {},
    "colab_type": "code",
    "id": "mWpOkKQUaN8X"
   },
   "outputs": [
    {
     "data": {
      "text/plain": [
       "array([ 1401.23365632,   617.11512704,  1269.81321583,  1571.88125161,\n",
       "        1109.39213416,  -906.31870719, -1550.22402349, -1998.60200235,\n",
       "       -1044.04283937, -1011.88989292, -1086.74319009,  -431.14882086,\n",
       "        -130.76564274,    -9.91207989, -1217.49720022,   384.0649944 ,\n",
       "         914.39283103,   667.17467581,  1328.32106269,  1302.41182539,\n",
       "       -1079.34113065, -1228.30615152, -1033.15273005,  -492.63663037,\n",
       "         649.70132398,  -671.82987465,    28.61004082,    -3.97188151,\n",
       "         694.53146062,  -541.66077197,  -420.38964988,  -865.45615332,\n",
       "       -1337.77919355, -1394.34491426,  -836.47133409, -3549.37353881,\n",
       "       -3385.87290969, -3572.75908081, -2188.25553024, -3541.04141639,\n",
       "         276.4665398 ,   508.52384962,   949.18223351,   938.09229861,\n",
       "         127.82800704, -2347.32859079, -1249.81087267, -2062.80726061,\n",
       "       -1457.06640755, -2175.87084641,    15.33263202,  -216.65952859,\n",
       "         295.93452336,  1991.47898822,  2017.49727133,   558.27099   ,\n",
       "         422.44154767,   574.93030059,  1358.07289311,   525.90802551,\n",
       "        -594.01460066,    25.81408288,   105.67485067,  -282.54820865,\n",
       "         292.96209397,  -928.7893787 , -1535.26336486, -1426.99513143,\n",
       "        -579.97019362, -1385.14150427, -1204.14369653, -1239.930577  ,\n",
       "        -847.74491159, -1717.76193629, -1506.11544886,   164.40034191,\n",
       "        -712.90467489,   560.72592763,  -274.16218131,   821.09615889,\n",
       "        -887.71537469, -1362.20493003,  -551.51123071,  -436.16656837,\n",
       "        -960.47327011,  2366.21379936,  2960.07981252,  2816.37643598,\n",
       "        2410.50540655,  2869.14200349,  -539.66163052,  -668.72756454,\n",
       "        -468.83682361,   148.83577964,  -329.25574706, -1301.37007563,\n",
       "       -1714.17683875, -1047.30382734,  -938.44932409, -1145.81965882,\n",
       "        1446.43676992,  2076.4179893 ,  1415.75009108,  2949.26234362,\n",
       "        2243.78384421, -1403.0293277 , -1195.95216579, -1214.43278921,\n",
       "       -1374.07524874, -1518.13405027,   130.9613801 ,  -495.94931651,\n",
       "        -642.25353348,    42.48260945,   485.61934933,   959.36545879,\n",
       "        1365.46218747,   862.43737437,   767.56187302,   490.00738692,\n",
       "        -773.58171893, -1074.38164373, -1590.11427392,  -306.7323844 ,\n",
       "        -745.82027021,   261.38330486,   213.22851618,    39.73893029,\n",
       "          51.6576531 ,  1193.68460882,   950.49485315,  1425.67691135,\n",
       "        1020.50625142,  1149.78861163,  1516.22262584,   266.33794594,\n",
       "         283.86709701,  -767.6615706 ,  1080.52016235,  -201.53849261,\n",
       "        -252.72580376,  1755.28658725,  -107.16805167,  1278.18912369,\n",
       "         -67.17924817,  3806.13187854,  2884.39420887,  3054.02775618,\n",
       "        2884.66141438,  3730.47779532, -1682.71434751, -1736.65728844,\n",
       "       -1801.72821338,  -625.92382962,  -392.64233643,  -720.30133021,\n",
       "          78.58205867,   -65.20462908, -1058.47196712,   754.94470365,\n",
       "           8.96580686, -1828.86175792, -1696.95306625,  -740.87860144,\n",
       "       -1804.4277714 ,  -712.16753421, -1004.66413046,  -703.81410623,\n",
       "        -977.66202964, -1746.41763248,   -87.85810919,   215.36615642,\n",
       "         388.5313786 ,   669.87890121,   171.38713817,  2859.39242457,\n",
       "        2278.82832506,  2701.46358077,  2902.03103782,  3401.76870979,\n",
       "         960.78297699,   721.51861098,  2552.68442222,   900.57953545,\n",
       "        2849.11104691, -1408.35330342, -1892.36072733, -1616.33915567,\n",
       "         120.74102639,  -945.64535997,  -292.43241548, -1435.87259155,\n",
       "       -1237.33351133,    35.54676688,  -501.4982791 ,  1771.55080521,\n",
       "        1152.03748648,   959.65756246,  1618.7869191 ,  1878.01071701])"
      ]
     },
     "execution_count": 47,
     "metadata": {},
     "output_type": "execute_result"
    }
   ],
   "source": [
    "new_dimensions[:,1]"
   ]
  },
  {
   "cell_type": "code",
   "execution_count": 50,
   "metadata": {},
   "outputs": [
    {
     "data": {
      "text/plain": [
       "array([ 52.,  48.,  50.,  49.,  51., 122., 126., 124., 119., 119., 121.,\n",
       "       118., 114., 115., 121.,  40.,  44.,  43.,  42.,  45., 111., 109.,\n",
       "       104., 106., 104., 106., 105., 108.,  95., 104., 127., 116., 113.,\n",
       "       114., 115., 152., 155., 154., 143., 152., 123., 119.,  38.,  40.,\n",
       "       122., 138., 136., 133., 135., 135.,  99.,  98.,  94.,  36.,  36.,\n",
       "        94.,  49., 100.,  92.,  86.,  58.,  54.,  60.,  62.,  76., 109.,\n",
       "       112., 114., 105., 109., 127., 120., 119., 125., 125., 110., 108.,\n",
       "       110., 108., 109.,  47.,  41.,  43.,  44.,  76.,  58.,  56.,  58.,\n",
       "        54.,  65., 110., 106., 112., 111., 112., 120., 118., 120., 120.,\n",
       "       120.,  93.,  90.,  85.,  74.,  93.,  51.,  48.,  47.,  52.,  64.,\n",
       "       109., 109., 108., 107., 105.,  35.,  39.,  39.,  37.,  32., 104.,\n",
       "       112., 109., 109., 109.,  38.,  36.,  42.,  38.,  41.,  47.,  46.,\n",
       "        49.,  48.,  48.,  97.,  62.,  93.,  95.,  83., 101., 103., 106.,\n",
       "        98., 104.,  23.,  24.,  24.,  25.,  19.,  41.,  52.,  45.,  52.,\n",
       "        56., 120., 124., 123., 123., 124., 133., 127., 127., 129., 125.,\n",
       "        48.,  45.,  47.,  42.,  64.,  34.,  39.,  38.,  33.,  37.,  44.,\n",
       "        42.,  46.,  39.,  50., 122., 121.,  54., 120.,  47., 110., 107.,\n",
       "       103., 110., 110., 106., 105., 105., 108., 109.,  56.,  50., 125.,\n",
       "       123.,  48.])"
      ]
     },
     "execution_count": 50,
     "metadata": {},
     "output_type": "execute_result"
    }
   ],
   "source": [
    "train[:,1]"
   ]
  },
  {
   "cell_type": "code",
   "execution_count": 30,
   "metadata": {},
   "outputs": [
    {
     "ename": "ValueError",
     "evalue": "Expected 2D array, got 1D array instead:\narray=[42. 47. 48. ... 43. 45. 19.].\nReshape your data either using array.reshape(-1, 1) if your data has a single feature or array.reshape(1, -1) if it contains a single sample.",
     "output_type": "error",
     "traceback": [
      "\u001b[0;31m---------------------------------------------------------------------------\u001b[0m",
      "\u001b[0;31mValueError\u001b[0m                                Traceback (most recent call last)",
      "\u001b[0;32m<ipython-input-30-56ea8ea45426>\u001b[0m in \u001b[0;36m<module>\u001b[0;34m()\u001b[0m\n\u001b[1;32m      2\u001b[0m \u001b[0mneigh\u001b[0m \u001b[0;34m=\u001b[0m \u001b[0mKNeighborsClassifier\u001b[0m\u001b[0;34m(\u001b[0m\u001b[0mn_neighbors\u001b[0m\u001b[0;34m=\u001b[0m\u001b[0;36m2\u001b[0m\u001b[0;34m)\u001b[0m\u001b[0;34m\u001b[0m\u001b[0m\n\u001b[1;32m      3\u001b[0m \u001b[0mneigh\u001b[0m\u001b[0;34m.\u001b[0m\u001b[0mfit\u001b[0m\u001b[0;34m(\u001b[0m\u001b[0mtrain\u001b[0m\u001b[0;34m[\u001b[0m\u001b[0;34m:\u001b[0m\u001b[0;34m,\u001b[0m\u001b[0;36m0\u001b[0m\u001b[0;34m:\u001b[0m\u001b[0;36m10304\u001b[0m\u001b[0;34m]\u001b[0m\u001b[0;34m,\u001b[0m \u001b[0mtrain\u001b[0m\u001b[0;34m[\u001b[0m\u001b[0;34m:\u001b[0m\u001b[0;34m,\u001b[0m\u001b[0;36m10304\u001b[0m\u001b[0;34m]\u001b[0m\u001b[0;34m)\u001b[0m\u001b[0;34m\u001b[0m\u001b[0m\n\u001b[0;32m----> 4\u001b[0;31m \u001b[0mneigh\u001b[0m\u001b[0;34m.\u001b[0m\u001b[0mpredict\u001b[0m\u001b[0;34m(\u001b[0m\u001b[0mtest\u001b[0m\u001b[0;34m[\u001b[0m\u001b[0;36m1\u001b[0m\u001b[0;34m,\u001b[0m\u001b[0;34m:\u001b[0m\u001b[0;34m]\u001b[0m\u001b[0;34m)\u001b[0m\u001b[0;34m\u001b[0m\u001b[0m\n\u001b[0m",
      "\u001b[0;32m~/anaconda3/lib/python3.6/site-packages/sklearn/neighbors/classification.py\u001b[0m in \u001b[0;36mpredict\u001b[0;34m(self, X)\u001b[0m\n\u001b[1;32m    141\u001b[0m             \u001b[0mClass\u001b[0m \u001b[0mlabels\u001b[0m \u001b[0;32mfor\u001b[0m \u001b[0meach\u001b[0m \u001b[0mdata\u001b[0m \u001b[0msample\u001b[0m\u001b[0;34m.\u001b[0m\u001b[0;34m\u001b[0m\u001b[0m\n\u001b[1;32m    142\u001b[0m         \"\"\"\n\u001b[0;32m--> 143\u001b[0;31m         \u001b[0mX\u001b[0m \u001b[0;34m=\u001b[0m \u001b[0mcheck_array\u001b[0m\u001b[0;34m(\u001b[0m\u001b[0mX\u001b[0m\u001b[0;34m,\u001b[0m \u001b[0maccept_sparse\u001b[0m\u001b[0;34m=\u001b[0m\u001b[0;34m'csr'\u001b[0m\u001b[0;34m)\u001b[0m\u001b[0;34m\u001b[0m\u001b[0m\n\u001b[0m\u001b[1;32m    144\u001b[0m \u001b[0;34m\u001b[0m\u001b[0m\n\u001b[1;32m    145\u001b[0m         \u001b[0mneigh_dist\u001b[0m\u001b[0;34m,\u001b[0m \u001b[0mneigh_ind\u001b[0m \u001b[0;34m=\u001b[0m \u001b[0mself\u001b[0m\u001b[0;34m.\u001b[0m\u001b[0mkneighbors\u001b[0m\u001b[0;34m(\u001b[0m\u001b[0mX\u001b[0m\u001b[0;34m)\u001b[0m\u001b[0;34m\u001b[0m\u001b[0m\n",
      "\u001b[0;32m~/anaconda3/lib/python3.6/site-packages/sklearn/utils/validation.py\u001b[0m in \u001b[0;36mcheck_array\u001b[0;34m(array, accept_sparse, dtype, order, copy, force_all_finite, ensure_2d, allow_nd, ensure_min_samples, ensure_min_features, warn_on_dtype, estimator)\u001b[0m\n\u001b[1;32m    439\u001b[0m                     \u001b[0;34m\"Reshape your data either using array.reshape(-1, 1) if \"\u001b[0m\u001b[0;34m\u001b[0m\u001b[0m\n\u001b[1;32m    440\u001b[0m                     \u001b[0;34m\"your data has a single feature or array.reshape(1, -1) \"\u001b[0m\u001b[0;34m\u001b[0m\u001b[0m\n\u001b[0;32m--> 441\u001b[0;31m                     \"if it contains a single sample.\".format(array))\n\u001b[0m\u001b[1;32m    442\u001b[0m             \u001b[0marray\u001b[0m \u001b[0;34m=\u001b[0m \u001b[0mnp\u001b[0m\u001b[0;34m.\u001b[0m\u001b[0matleast_2d\u001b[0m\u001b[0;34m(\u001b[0m\u001b[0marray\u001b[0m\u001b[0;34m)\u001b[0m\u001b[0;34m\u001b[0m\u001b[0m\n\u001b[1;32m    443\u001b[0m             \u001b[0;31m# To ensure that array flags are maintained\u001b[0m\u001b[0;34m\u001b[0m\u001b[0;34m\u001b[0m\u001b[0m\n",
      "\u001b[0;31mValueError\u001b[0m: Expected 2D array, got 1D array instead:\narray=[42. 47. 48. ... 43. 45. 19.].\nReshape your data either using array.reshape(-1, 1) if your data has a single feature or array.reshape(1, -1) if it contains a single sample."
     ]
    }
   ],
   "source": [
    "# K-NN classifier\n",
    "neigh = KNeighborsClassifier(n_neighbors=2)\n",
    "neigh.fit(train[:,0:10304], train[:,10304]) \n",
    "neigh.predict(test[1,:])"
   ]
  },
  {
   "cell_type": "code",
   "execution_count": null,
   "metadata": {},
   "outputs": [],
   "source": []
  }
 ],
 "metadata": {
  "colab": {
   "collapsed_sections": [],
   "name": "face_recognition.ipynb",
   "provenance": [],
   "version": "0.3.2"
  },
  "kernelspec": {
   "display_name": "Python 3",
   "language": "python",
   "name": "python3"
  },
  "language_info": {
   "codemirror_mode": {
    "name": "ipython",
    "version": 3
   },
   "file_extension": ".py",
   "mimetype": "text/x-python",
   "name": "python",
   "nbconvert_exporter": "python",
   "pygments_lexer": "ipython3",
   "version": "3.6.5"
  }
 },
 "nbformat": 4,
 "nbformat_minor": 1
}

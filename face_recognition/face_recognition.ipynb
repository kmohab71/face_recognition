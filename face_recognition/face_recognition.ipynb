{
 "cells": [
  {
   "cell_type": "code",
   "execution_count": 1,
   "metadata": {
    "colab": {},
    "colab_type": "code",
    "id": "YMDYWW7BU82e"
   },
   "outputs": [],
   "source": [
    "\n",
    "from PIL import Image\n",
    "import numpy as np\n",
    "import glob\n",
    "import regex \n",
    "import matplotlib.pyplot as plt\n",
    "from sklearn.decomposition import PCA\n",
    "from sklearn.neighbors import KNeighborsClassifier\n",
    "from sklearn.model_selection import GridSearchCV\n",
    "from sklearn.model_selection import KFold\n",
    "from sklearn.model_selection import learning_curve\n"
   ]
  },
  {
   "cell_type": "code",
   "execution_count": 2,
   "metadata": {
    "colab": {},
    "colab_type": "code",
    "id": "rwtwi-lJrEDB"
   },
   "outputs": [],
   "source": [
    "\n",
    "\n",
    "\n",
    "def read_dataset(path):\n",
    "  data= np.zeros([400,10305])\n",
    "  i=0\n",
    "  images_list = []\n",
    "  for filename in glob.glob(path+\"/*/*.pgm\"): \n",
    "    im=Image.open(filename)\n",
    "    images_list.append(im)\n",
    "    l=regex.split(r'/', filename)\n",
    "    l2= regex.split(r's', l[1])\n",
    "    arr = np.array(im)\n",
    "    data[i,0:10304]=arr.reshape(1,10304)\n",
    "    data[i, -1]=l2[1]\n",
    "    i+=1\n",
    "  return data, images_list\n",
    "\n",
    "    "
   ]
  },
  {
   "cell_type": "code",
   "execution_count": 3,
   "metadata": {
    "colab": {},
    "colab_type": "code",
    "id": "Hts1FOPRRCO9"
   },
   "outputs": [],
   "source": [
    "def data_splitting(data):\n",
    "    rows,cols=data.shape\n",
    "    test_X = np.zeros([int(rows*0.5),cols-1])\n",
    "    train_X = np.zeros([int(rows*0.5),cols-1])\n",
    "    test_y= np.zeros(int(rows*0.5))\n",
    "    train_y=np.zeros(int(rows*0.5))\n",
    "    for i in range(data.shape[0]):\n",
    "        if i%2 == 0:\n",
    "            test_X[int(i/2)]=data[i,:-1]\n",
    "            test_y[int(i/2)]= data[i,-1]\n",
    "        else:\n",
    "            train_X[int((i-1)/2)]=data[i,:-1]\n",
    "            train_y[int((i-1)/2)]= data[i,-1] \n",
    "    return train_X, train_y, test_X, test_y\n"
   ]
  },
  {
   "cell_type": "code",
   "execution_count": 4,
   "metadata": {},
   "outputs": [],
   "source": [
    "def data_splitting_70(data):\n",
    "    rows,cols=data.shape\n",
    "    test_X = np.zeros([int(rows*0.3),cols-1])\n",
    "    train_X = np.zeros([int(rows*0.7),cols-1])\n",
    "    test_y= np.zeros(int(rows*0.3))\n",
    "    train_y=np.zeros(int(rows*0.7))\n",
    "    x=0\n",
    "    y=0\n",
    "    for i in range(0,data.shape[0],10):\n",
    "            test_X[x:x+3]=data[i:(i+3),:-1]\n",
    "            test_y[x:x+3]= data[i:(i+3),-1]\n",
    "            train_X[y:y+7]=data[(i+3):(i+10),:-1]\n",
    "            train_y[y:y+7]= data[(i+3):(i+10),-1]\n",
    "            x+=3\n",
    "            y+=7\n",
    "    return train_X, train_y, test_X, test_y\n",
    "\n"
   ]
  },
  {
   "cell_type": "code",
   "execution_count": 5,
   "metadata": {
    "colab": {},
    "colab_type": "code",
    "id": "hs9r-A4YTmpc"
   },
   "outputs": [],
   "source": [
    "def visualize(images,i):\n",
    "  plt.imshow(images[i])\n",
    "  "
   ]
  },
  {
   "cell_type": "code",
   "execution_count": 6,
   "metadata": {},
   "outputs": [],
   "source": [
    "def plot_learning_curve(estimator, title, X, y, ylim=None, cv=None,\n",
    "                        n_jobs=None, train_sizes=np.linspace(.1, 1.0, 5)):\n",
    "    plt.figure()\n",
    "    plt.title(title)\n",
    "    if ylim is not None:\n",
    "        plt.ylim(*ylim)\n",
    "    plt.xlabel(\"Training examples\")\n",
    "    plt.ylabel(\"Score\")\n",
    "    train_sizes, train_scores, test_scores = learning_curve(\n",
    "        estimator, X, y, cv=cv, n_jobs=n_jobs, train_sizes=train_sizes)\n",
    "    train_scores_mean = np.mean(train_scores, axis=1)\n",
    "    train_scores_std = np.std(train_scores, axis=1)\n",
    "    test_scores_mean = np.mean(test_scores, axis=1)\n",
    "    test_scores_std = np.std(test_scores, axis=1)\n",
    "    plt.grid()\n",
    "\n",
    "    plt.fill_between(train_sizes, train_scores_mean - train_scores_std,\n",
    "                     train_scores_mean + train_scores_std, alpha=0.1,\n",
    "                     color=\"r\")\n",
    "    plt.fill_between(train_sizes, test_scores_mean - test_scores_std,\n",
    "                     test_scores_mean + test_scores_std, alpha=0.1, color=\"g\")\n",
    "    plt.plot(train_sizes, train_scores_mean, 'o-', color=\"r\",\n",
    "             label=\"Training score\")\n",
    "    plt.plot(train_sizes, test_scores_mean, 'o-', color=\"g\",\n",
    "             label=\"Cross-validation score\")\n",
    "\n",
    "    plt.legend(loc=\"best\")\n",
    "    return plt"
   ]
  },
  {
   "cell_type": "code",
   "execution_count": null,
   "metadata": {},
   "outputs": [],
   "source": [
    "## LDA\n",
    "def get_classes(data):\n",
    "    classes= []\n",
    "    for i in range (41):\n",
    "        indecies= np.argwhere(data[:,-1]== i)\n",
    "        classes.append(data[indecies,:].reshape(len(indecies),data.shape[1]))      \n",
    "    classes.pop(0)\n",
    "    return classes\n",
    "\n",
    "def centralized(classes,classes_Mean):\n",
    "    z=[]\n",
    "    for i, x in enumerate(classes):\n",
    "        z.append(x - (np.ones(x.shape)*classes_Mean[i]))\n",
    "    z=np.array(z)\n",
    "    #Z=Z.reshape(400,10305)\n",
    "    \n",
    "    return z\n",
    "\n",
    "def LDA(data):\n",
    "    classes= get_classes(data)\n",
    "    Means= np.mean(data,0)\n",
    "    \n",
    "    list = [np.mean(x, axis=0) for x in classes]\n",
    "    classes_Mean= np.array(list)   \n",
    "    print(classes_Mean.shape)\n",
    "    \n",
    "    SB=0\n",
    "    for i, x in enumerate(classes):\n",
    "        SB+=np.dot(x.shape[0]*(classes_Mean[i] - Means),(classes_Mean[1] - Means).T)\n",
    "\n",
    "    ##..........center class matrices..........##\n",
    "    Z= certerlaized(classes,classes_Mean) \n",
    "    \n",
    "    ##..........Within class scatter matrix...........##\n",
    "    s= []\n",
    "    S_sum= np.zeros([Z.shape[1], Z.shape[1]])\n",
    "    for i in range (len(classes)):\n",
    "        s.append(Z[i].dot(Z[i].T))\n",
    "        S_sum+=Z[i].dot(Z[i].T)\n",
    "    print(\"number of classes=\", len(s), \"Summ_of S=\", S_sum.shape)\n",
    "    \n",
    "    \n",
    "    eigval, eigvec = np.linalg.eig(np.dot(np.linalg.inv(S_sum), SB))\n",
    "    print(eigvec.shape)\n",
    "    \n",
    "LDA(data)\n",
    "\n"
   ]
  },
  {
   "cell_type": "code",
   "execution_count": 7,
   "metadata": {},
   "outputs": [],
   "source": [
    "def KNN_classifer(X_train_transformed, y_train,preprocessor_type):\n",
    "\n",
    "    #................................training........................................#    \n",
    "    parameters = {'n_neighbors':[1,3,5,7]}\n",
    "    KNN=KNeighborsClassifier()\n",
    "    cv= KFold(n_splits=5,shuffle=True, random_state=5)\n",
    "    KNN_opt = GridSearchCV(KNN, parameters,cv=cv,n_jobs=-1,return_train_score=True)\n",
    "    KNN_opt.fit(X_train_transformed,  y_train)\n",
    "    print(\"Best parameters:\",KNN_opt.best_params_)\n",
    "    print(\"Best score=\",KNN_opt.best_score_ )\n",
    "    mean_train_score=KNN_opt.cv_results_['mean_train_score']\n",
    "    mean_test_score=KNN_opt.cv_results_['mean_test_score']\n",
    "    param= KNN_opt.cv_results_['params']\n",
    "    \n",
    "    \n",
    "    #..........................visualizing learning curves and tuning acuracies.......................#   \n",
    "    title = \"Learning Curves for best estimator using  \"+ preprocessor_type\n",
    "    plt=plot_learning_curve(KNN_opt, title, X_train_transformed,  y_train, cv=cv)\n",
    "    plt.show()\n",
    "    \n",
    "    plt.plot(parameters['n_neighbors'], mean_test_score, 'ro')\n",
    "    plt.show\n",
    "    return mean_train_score, mean_test_score, parameters\n",
    "\n"
   ]
  },
  {
   "cell_type": "code",
   "execution_count": 10,
   "metadata": {
    "colab": {},
    "colab_type": "code",
    "id": "I_FXsVBSuDRg"
   },
   "outputs": [
    {
     "name": "stdout",
     "output_type": "stream",
     "text": [
      "Best parameters: {'n_neighbors': 1}\n",
      "Best score= 0.91\n"
     ]
    },
    {
     "data": {
      "image/png": "[encoded data removed]",
      "text/plain": [
       "<Figure size 432x288 with 1 Axes>"
      ]
     },
     "metadata": {},
     "output_type": "display_data"
    },
    {
     "data": {
      "image/png": "[encoded data removed]",
      "text/plain": [
       "<Figure size 432x288 with 1 Axes>"
      ]
     },
     "metadata": {},
     "output_type": "display_data"
    }
   ],
   "source": [
    "#def Main():\n",
    "data, images= read_dataset(\"orl_faces\") \n",
    "train_x, train_y, test_x, test_y= data_splitting(data)\n",
    "train_70_X, train_70_y, test_70_X, test_70_y=data_splitting_70(data)\n",
    "\n",
    "## PCA\n",
    "#preprocessor_type= \"PCA\"\n",
    "#mean_train_score, mean_test_score,parameters =KNN_classifer(train_x, train_y, preprocessor_type)\n",
    "\n",
    "\n",
    "## LDA\n",
    "preprocessor_type=\"LDA\"\n",
    "mean_train_score, mean_test_score,parameters =KNN_classifer(train_x, train_y,preprocessor_type)\n",
    "\n"
   ]
  },
  {
   "cell_type": "code",
   "execution_count": 39,
   "metadata": {},
   "outputs": [],
   "source": [
    "def FOTV(eig_vals,totVar,alphas):\n",
    "    I=dict()\n",
    "    for alpha in alphas:\n",
    "        expVar=0.0\n",
    "        i=0\n",
    "        while expVar <= (alpha * totVar): \n",
    "            expVar+=eig_vals[i]\n",
    "            i+=1\n",
    "        I[alpha]=i\n",
    "    return I"
   ]
  },
  {
   "cell_type": "code",
   "execution_count": 40,
   "metadata": {},
   "outputs": [],
   "source": [
    "def pCA(dataMatrix):\n",
    "    transformed=dict()\n",
    "    reducedVec=dict()\n",
    "    X=dataMatrix[:,:]\n",
    "    num_data, dim = X.shape\n",
    "    mean_X = X.mean(axis=0)\n",
    "    X = X - mean_X \n",
    "    cov_mat = np.dot(X.T, X)/(num_data) # covariance matrix\n",
    "    eig_vals, eig_vecs = np.linalg.eig(cov_mat)\n",
    "    totVar = sum(eig_vals)\n",
    "    idx = eig_vals.argsort()[::-1]   \n",
    "    eig_vals = eig_vals[idx]\n",
    "    eig_vecs = eig_vecs[:,idx]\n",
    "    num = FOTV(eig_vals,totVar,[0.8,0.85,0.9,0.95])\n",
    "    for key, vals in num.items(): \n",
    "        reducedVec[key]=eig_vecs[:vals,:]\n",
    "        transformed[key]=np.absolute(X.dot(reducedVec[key].T))\n",
    "    return transformed,reducedVec"
   ]
  },
  {
   "cell_type": "code",
   "execution_count": 41,
   "metadata": {},
   "outputs": [],
   "source": [
    "transformed,reducedVec=pCA(train_x)\n"
   ]
  },
  {
   "cell_type": "code",
   "execution_count": 42,
   "metadata": {},
   "outputs": [],
   "source": [
    "transformed_70,reducedVec_70=pCA(train_70_X)"
   ]
  },
  {
   "cell_type": "code",
   "execution_count": 43,
   "metadata": {},
   "outputs": [],
   "source": [
    "def kmodel_score(train_X,train_Y ,test_X,test_Y,neighbors):\n",
    "    knn_model = KNeighborsClassifier(n_neighbors=neighbors)\n",
    "    knn_model.fit(train_X, train_Y) \n",
    "    y_predict = knn_model.score(test_X,test_Y)\n",
    "    return(y_predict)"
   ]
  },
  {
   "cell_type": "code",
   "execution_count": 44,
   "metadata": {},
   "outputs": [
    {
     "name": "stdout",
     "output_type": "stream",
     "text": [
      "{0.8: 0.065, 0.85: 0.04, 0.9: 0.03, 0.95: 0.05}\n"
     ]
    }
   ],
   "source": [
    "info={}\n",
    "for key, vals in transformed.items(): \n",
    "    test_X=np.absolute(test_x.dot(reducedVec[key].T))\n",
    "    score=kmodel_score(vals, train_y, test_X, test_y,1)\n",
    "    info[key]=score \n",
    "print(info)        "
   ]
  },
  {
   "cell_type": "code",
   "execution_count": 91,
   "metadata": {},
   "outputs": [
    {
     "data": {
      "image/png": "[encoded data removed]",
      "text/plain": [
       "<Figure size 432x288 with 1 Axes>"
      ]
     },
     "metadata": {
      "needs_background": "light"
     },
     "output_type": "display_data"
    }
   ],
   "source": [
    "keys = list(info.keys())\n",
    "vals = list(info.values())\n",
    "\n",
    "plt.bar(keys,vals,align='center',width=0.01)\n",
    "plt.ylabel ('accuracy')\n",
    "plt.yticks(list(vals))\n",
    "plt.xlabel ('alpha')\n",
    "plt.xticks(list(keys))\n",
    "plt.savefig('pcaAccuracy.png')\n",
    "plt.show()\n"
   ]
  },
  {
   "cell_type": "code",
   "execution_count": 92,
   "metadata": {},
   "outputs": [],
   "source": [
    "def pca_classification_70(transformed_70,reducedVec_70):    \n",
    "    infoPCA={}\n",
    "    for i in [1,3,5,7]:\n",
    "        infoPCA[i]={}\n",
    "        for key, vals in transformed_70.items(): \n",
    "            test_X=np.absolute(test_70_X.dot(reducedVec_70[key].T))\n",
    "            score=kmodel_score(vals, train_70_y, test_X, test_70_y,i)\n",
    "            infoPCA[i][key]=score \n",
    "    for i in infoPCA.keys():\n",
    "        keys = list(infoPCA[i].keys())\n",
    "        vals = list(infoPCA[i].values())\n",
    "        plt.bar(keys,vals,align='center',width=0.01,label=i)\n",
    "        plt.ylabel ('accuracy')\n",
    "        plt.yticks(list(vals))\n",
    "        plt.xlabel ('alpha')\n",
    "        plt.xticks(list(keys))\n",
    "        plt.legend(loc='upper right')\n",
    "        plt.savefig('./figures/PCA/pcaAccuracy70_'+str(i)+'.png')\n",
    "        plt.show()"
   ]
  },
  {
   "cell_type": "code",
   "execution_count": 94,
   "metadata": {},
   "outputs": [],
   "source": [
    "def pca_classification(transformed,reducedVec):    \n",
    "    infoPCA={}\n",
    "    for i in [1,3,5,7]:\n",
    "        infoPCA[i]={}\n",
    "        for key, vals in transformed.items(): \n",
    "            test_X=np.absolute(test_x.dot(reducedVec[key].T))\n",
    "            score=kmodel_score(vals, train_y, test_X, test_y,i)\n",
    "            infoPCA[i][key]=score \n",
    "    for i in infoPCA.keys():\n",
    "        keys = list(infoPCA[i].keys())\n",
    "        vals = list(infoPCA[i].values())\n",
    "        plt.bar(keys,vals,align='center',width=0.01,label=i)\n",
    "        plt.ylabel ('accuracy')\n",
    "        plt.yticks(list(vals))\n",
    "        plt.xlabel ('alpha')\n",
    "        plt.xticks(list(keys))\n",
    "        plt.legend(loc='upper right')\n",
    "        plt.savefig('./figures/PCA/pcaAccuracy'+str(i)+'.png')\n",
    "        plt.show()"
   ]
  },
  {
   "cell_type": "code",
   "execution_count": 90,
   "metadata": {},
   "outputs": [
    {
     "data": {
      "image/png": "[encoded data removed]",
      "text/plain": [
       "<Figure size 432x288 with 1 Axes>"
      ]
     },
     "metadata": {
      "needs_background": "light"
     },
     "output_type": "display_data"
    },
    {
     "data": {
      "image/png": "[encoded data removed]",
      "text/plain": [
       "<Figure size 432x288 with 1 Axes>"
      ]
     },
     "metadata": {
      "needs_background": "light"
     },
     "output_type": "display_data"
    },
    {
     "data": {
      "image/png": "[encoded data removed]",
      "text/plain": [
       "<Figure size 432x288 with 1 Axes>"
      ]
     },
     "metadata": {
      "needs_background": "light"
     },
     "output_type": "display_data"
    },
    {
     "data": {
      "image/png": "[encoded data removed]",
      "text/plain": [
       "<Figure size 432x288 with 1 Axes>"
      ]
     },
     "metadata": {
      "needs_background": "light"
     },
     "output_type": "display_data"
    }
   ],
   "source": [
    "pca_classification_70(transformed_70,reducedVec_70)"
   ]
  },
  {
   "cell_type": "code",
   "execution_count": 95,
   "metadata": {},
   "outputs": [
    {
     "data": {
      "image/png": "[encoded data removed]",
      "text/plain": [
       "<Figure size 432x288 with 1 Axes>"
      ]
     },
     "metadata": {
      "needs_background": "light"
     },
     "output_type": "display_data"
    },
    {
     "data": {
      "image/png": "[encoded data removed]",
      "text/plain": [
       "<Figure size 432x288 with 1 Axes>"
      ]
     },
     "metadata": {
      "needs_background": "light"
     },
     "output_type": "display_data"
    },
    {
     "data": {
      "image/png": "[encoded data removed]",
      "text/plain": [
       "<Figure size 432x288 with 1 Axes>"
      ]
     },
     "metadata": {
      "needs_background": "light"
     },
     "output_type": "display_data"
    },
    {
     "data": {
      "image/png": "[encoded data removed]",
      "text/plain": [
       "<Figure size 432x288 with 1 Axes>"
      ]
     },
     "metadata": {
      "needs_background": "light"
     },
     "output_type": "display_data"
    }
   ],
   "source": [
    "pca_classification(transformed,reducedVec)"
   ]
  },
  {
   "cell_type": "code",
   "execution_count": null,
   "metadata": {},
   "outputs": [],
   "source": []
  },
  {
   "cell_type": "code",
   "execution_count": null,
   "metadata": {},
   "outputs": [],
   "source": []
  }
 ],
 "metadata": {
  "colab": {
   "collapsed_sections": [],
   "name": "face_recognition.ipynb",
   "provenance": [],
   "version": "0.3.2"
  },
  "kernelspec": {
   "display_name": "Python 3",
   "language": "python",
   "name": "python3"
  },
  "language_info": {
   "codemirror_mode": {
    "name": "ipython",
    "version": 3
   },
   "file_extension": ".py",
   "mimetype": "text/x-python",
   "name": "python",
   "nbconvert_exporter": "python",
   "pygments_lexer": "ipython3",
   "version": "3.6.5"
  }
 },
 "nbformat": 4,
 "nbformat_minor": 1
}
